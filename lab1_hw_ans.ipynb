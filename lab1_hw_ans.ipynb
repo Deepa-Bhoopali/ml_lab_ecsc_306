{
 "cells": [
  {
   "cell_type": "code",
   "execution_count": 1,
   "metadata": {},
   "outputs": [
    {
     "name": "stdout",
     "output_type": "stream",
     "text": [
      "9\n"
     ]
    }
   ],
   "source": [
    "\n",
    "import tensorflow as tf\n",
    "v1=tf.constant(5)\n",
    "v2=tf.constant(2)\n",
    "with tf.name_scope(\"MyOperation\"):\n",
    "    with tf.name_scope(\"Scope_A\"):\n",
    "        a = tf.multiply(v1,v1)\n",
    "        b = tf.multiply(v2,v2)\n",
    "with tf.name_scope(\"Scope_B\"):\n",
    "    c = tf.add(a, b, name=\"And_Them\")\n",
    "    d = tf.multiply(v1, v2, name=\"Multiply_them\")\n",
    "\n",
    "with tf.name_scope(\"Scope_C\"):\n",
    "    e = tf.multiply(2, d, name=\"B_add\")\n",
    "\n",
    "g = tf.subtract(c,e)\n",
    "\n",
    "with tf.Session() as sess:\n",
    "    writer = tf.summary.FileWriter(\"/tmp/tboard/output_d2\", sess.graph)\n",
    "    print(sess.run(g))\n",
    "    writer.close()"
   ]
  },
  {
   "cell_type": "code",
   "execution_count": 2,
   "metadata": {},
   "outputs": [
    {
     "name": "stdout",
     "output_type": "stream",
     "text": [
      "133\n"
     ]
    }
   ],
   "source": [
    "import tensorflow as tf\n",
    "a=tf.constant(5)\n",
    "b=tf.constant(2)\n",
    "\n",
    "\n",
    "\n",
    "with tf.name_scope(\"Operation\"):\n",
    "    with tf.name_scope(\"first_scope\"):\n",
    "        c=tf.square(a,name=\"squaring\")\n",
    "        d=tf.square(b,name=\"squaring\")\n",
    "        f=tf.multiply(a,b, name=\"multiply_them\")\n",
    "        e=tf.add(c,d,name=\"add_them\")\n",
    "        g=tf.subtract(e,f, name=\"subtract_them\")\n",
    "    with tf.name_scope(\"second_scope\"):\n",
    "        x=tf.add(a,b, name=\"add_them\")\n",
    "    res=tf.multiply(x,g, name=\"multiply_them\")\n",
    "    sess=tf.Session()\n",
    "print(sess.run(res))\n",
    "\n",
    "writer = tf.summary.FileWriter(\"/tmp/tboard/output_d3\", sess.graph)\n",
    "\n",
    "    "
   ]
  },
  {
   "cell_type": "code",
   "execution_count": null,
   "metadata": {
    "collapsed": true
   },
   "outputs": [],
   "source": []
  }
 ],
 "metadata": {
  "kernelspec": {
   "display_name": "Python 3",
   "language": "python",
   "name": "python3"
  },
  "language_info": {
   "codemirror_mode": {
    "name": "ipython",
    "version": 3
   },
   "file_extension": ".py",
   "mimetype": "text/x-python",
   "name": "python",
   "nbconvert_exporter": "python",
   "pygments_lexer": "ipython3",
   "version": "3.6.1"
  }
 },
 "nbformat": 4,
 "nbformat_minor": 2
}
